{
 "cells": [
  {
   "cell_type": "code",
   "execution_count": 2,
   "id": "049f3625",
   "metadata": {},
   "outputs": [
    {
     "data": {
      "text/plain": [
       "[1, 4, 9, 16, 25, 36, 49, 64, 81, 100]"
      ]
     },
     "execution_count": 2,
     "metadata": {},
     "output_type": "execute_result"
    }
   ],
   "source": [
    "outcome = [x**2 for x in range(1,11)]\n",
    "#x**2 is the output expression\n",
    "#x is the variable\n",
    "#range(1,11) is the input sequence\n",
    "outcome"
   ]
  },
  {
   "cell_type": "code",
   "execution_count": null,
   "id": "f0cc66ca",
   "metadata": {},
   "outputs": [],
   "source": []
  }
 ],
 "metadata": {
  "kernelspec": {
   "display_name": "Python 3",
   "language": "python",
   "name": "python3"
  },
  "language_info": {
   "codemirror_mode": {
    "name": "ipython",
    "version": 3
   },
   "file_extension": ".py",
   "mimetype": "text/x-python",
   "name": "python",
   "nbconvert_exporter": "python",
   "pygments_lexer": "ipython3",
   "version": "3.8.8"
  }
 },
 "nbformat": 4,
 "nbformat_minor": 5
}
